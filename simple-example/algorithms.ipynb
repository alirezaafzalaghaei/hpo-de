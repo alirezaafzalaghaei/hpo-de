{
 "cells": [
  {
   "cell_type": "code",
   "execution_count": 1,
   "id": "6d3e3939-b82f-412d-8143-5fdcbaa4c319",
   "metadata": {
    "execution": {
     "iopub.execute_input": "2024-05-22T06:12:05.358827Z",
     "iopub.status.busy": "2024-05-22T06:12:05.358239Z",
     "iopub.status.idle": "2024-05-22T06:12:05.364221Z",
     "shell.execute_reply": "2024-05-22T06:12:05.363315Z",
     "shell.execute_reply.started": "2024-05-22T06:12:05.358766Z"
    }
   },
   "outputs": [],
   "source": [
    "import os\n",
    "import random\n",
    "import subprocess\n",
    "import time\n",
    "\n",
    "import numpy as np\n",
    "from tqdm import tqdm, trange"
   ]
  },
  {
   "cell_type": "code",
   "execution_count": 2,
   "id": "316a3149-7418-409b-9cce-e691d923da46",
   "metadata": {
    "execution": {
     "iopub.execute_input": "2024-05-22T05:13:48.662538Z",
     "iopub.status.busy": "2024-05-22T05:13:48.661435Z",
     "iopub.status.idle": "2024-05-22T05:13:48.683810Z",
     "shell.execute_reply": "2024-05-22T05:13:48.681470Z",
     "shell.execute_reply.started": "2024-05-22T05:13:48.662465Z"
    }
   },
   "outputs": [],
   "source": [
    "def run_trial(configurations):\n",
    "    theta, mapping, alpha, beta, lmbda = configurations\n",
    "    header = \"L,shift,alpha,beta,lambda,kappa\\n\"\n",
    "    maple_executable_path = r\"/home/conficker/programs/maple2023/bin/maple\"\n",
    "    # maple_file = \"./volterra-population.mw\"\n",
    "    maple_file = \"./kidder.mw\"\n",
    "    kappa = 0.5\n",
    "\n",
    "    # Create the configuration file\n",
    "    config_file_path = \"config.txt\"\n",
    "    with open(config_file_path, \"w\") as file:\n",
    "        rounded_values = [\n",
    "            round(theta, 5),\n",
    "            round(alpha, 5),\n",
    "            round(beta, 5),\n",
    "            round(lmbda, 5),\n",
    "            int(mapping),\n",
    "            kappa,\n",
    "        ]\n",
    "        formatted_values = \",\".join(map(str, rounded_values))\n",
    "        file.write(f\"{header}{formatted_values}\\n\")\n",
    "\n",
    "    # Run the Maple script\n",
    "    process = subprocess.Popen(\n",
    "        [maple_executable_path, maple_file],\n",
    "        stdout=subprocess.PIPE,\n",
    "        stderr=subprocess.PIPE,\n",
    "        text=True,\n",
    "    )\n",
    "\n",
    "    try:\n",
    "        process.wait(timeout=2)  # Wait for the process to complete or timeout\n",
    "        stdout, stderr = process.communicate()\n",
    "        \n",
    "        # Read the result from the output file\n",
    "        result_file_path = \"result.csv\"\n",
    "        try:    \n",
    "            with open(result_file_path) as result_file:\n",
    "                res = float(result_file.readline().strip())\n",
    "            os.remove(result_file_path)  # Clean up the result file\n",
    "        except (FileNotFoundError, ValueError):\n",
    "            res = 1e100  # Failed to converge or file read error\n",
    "\n",
    "        \n",
    "\n",
    "    except subprocess.TimeoutExpired:\n",
    "        res = 1e101  # Timeout error\n",
    "        process.kill()  # Ensure the process is terminated\n",
    "        stdout, stderr = process.communicate()\n",
    "\n",
    "    # Log the results\n",
    "    with open(\"log.txt\", \"a\") as log_file:\n",
    "        log_file.write(f\"{configurations}, {res}, {time.time()}\\n\")\n",
    "\n",
    "    os.remove(config_file_path)  # Clean up the config file\n",
    "\n",
    "    return res"
   ]
  },
  {
   "cell_type": "markdown",
   "id": "132fa20d-f930-4574-91d9-2812e01c2f0e",
   "metadata": {},
   "source": [
    "# Grid Search"
   ]
  },
  {
   "cell_type": "code",
   "execution_count": 3,
   "id": "b67c0d21-8cc5-443f-beda-d76436929ebe",
   "metadata": {
    "execution": {
     "iopub.execute_input": "2024-05-22T05:13:48.685654Z",
     "iopub.status.busy": "2024-05-22T05:13:48.685328Z",
     "iopub.status.idle": "2024-05-22T05:13:48.690862Z",
     "shell.execute_reply": "2024-05-22T05:13:48.689717Z",
     "shell.execute_reply.started": "2024-05-22T05:13:48.685625Z"
    }
   },
   "outputs": [],
   "source": [
    "import itertools"
   ]
  },
  {
   "cell_type": "code",
   "execution_count": 4,
   "id": "6d9de44b-72c2-4a8b-ac50-38495893f06d",
   "metadata": {
    "execution": {
     "iopub.execute_input": "2024-05-22T05:13:48.694513Z",
     "iopub.status.busy": "2024-05-22T05:13:48.692998Z",
     "iopub.status.idle": "2024-05-22T05:13:48.706070Z",
     "shell.execute_reply": "2024-05-22T05:13:48.703829Z",
     "shell.execute_reply.started": "2024-05-22T05:13:48.694425Z"
    }
   },
   "outputs": [],
   "source": [
    "def grid_search(f, vardists):\n",
    "    best_solution = None\n",
    "    best_cost = float(\"inf\")\n",
    "    history = []\n",
    "\n",
    "    # Generate all possible combinations of hyperparameters\n",
    "    all_combinations = list(itertools.product(*vardists))\n",
    "    t = tqdm(all_combinations, desc=\"Best cost\", leave=True)\n",
    "\n",
    "    for solution in t:\n",
    "        cost = f(solution)\n",
    "        history.append((solution, cost))\n",
    "\n",
    "        if cost < best_cost:\n",
    "            best_solution = solution\n",
    "            best_cost = cost\n",
    "\n",
    "        t.set_description(f\"Best cost: {best_cost:.2e}\")\n",
    "        t.refresh()\n",
    "\n",
    "    return best_solution, best_cost, history"
   ]
  },
  {
   "cell_type": "code",
   "execution_count": 5,
   "id": "fb436ccb-5f18-41c7-bfba-3443f3ee8387",
   "metadata": {
    "execution": {
     "iopub.execute_input": "2024-05-22T05:13:48.708586Z",
     "iopub.status.busy": "2024-05-22T05:13:48.708227Z",
     "iopub.status.idle": "2024-05-22T05:14:02.076229Z",
     "shell.execute_reply": "2024-05-22T05:14:02.074974Z",
     "shell.execute_reply.started": "2024-05-22T05:13:48.708564Z"
    }
   },
   "outputs": [
    {
     "name": "stderr",
     "output_type": "stream",
     "text": [
      "Best cost: 3.00e-04: 100%|██████████████████████████████████████████████████████████████████████████████████████████████| 24/24 [00:13<00:00,  1.80it/s]\n"
     ]
    }
   ],
   "source": [
    "vardists = (\n",
    "    [2.5],  # theta:  [0.1, 10]\n",
    "    [1, 2, 3],  # mapping\n",
    "    [-0.5, 0],  # alpha:  [-1, 0]\n",
    "    [-0.5, -0],  # beta:   [-1, 3]\n",
    "    [0.5, 1],  # lambda: [0.1, 2]\n",
    ")\n",
    "\n",
    "best_solution, best_fitness, history = grid_search(run_trial, vardists)"
   ]
  },
  {
   "cell_type": "markdown",
   "id": "adc169de-dea7-42c1-93a6-1defaccc034d",
   "metadata": {},
   "source": [
    "# Random Search"
   ]
  },
  {
   "cell_type": "code",
   "execution_count": 6,
   "id": "4775c399-b372-4760-9984-77ef1cdd947d",
   "metadata": {
    "execution": {
     "iopub.execute_input": "2024-05-22T05:14:02.078021Z",
     "iopub.status.busy": "2024-05-22T05:14:02.077561Z",
     "iopub.status.idle": "2024-05-22T05:14:02.338863Z",
     "shell.execute_reply": "2024-05-22T05:14:02.338170Z",
     "shell.execute_reply.started": "2024-05-22T05:14:02.077983Z"
    }
   },
   "outputs": [],
   "source": [
    "from scipy.stats import randint, uniform"
   ]
  },
  {
   "cell_type": "code",
   "execution_count": 7,
   "id": "540a2f82-fa2f-4101-9a23-147bf6a197a3",
   "metadata": {
    "execution": {
     "iopub.execute_input": "2024-05-22T05:14:02.339866Z",
     "iopub.status.busy": "2024-05-22T05:14:02.339659Z",
     "iopub.status.idle": "2024-05-22T05:14:02.345619Z",
     "shell.execute_reply": "2024-05-22T05:14:02.344815Z",
     "shell.execute_reply.started": "2024-05-22T05:14:02.339845Z"
    }
   },
   "outputs": [],
   "source": [
    "def random_search(f, vardists, num_iterations):\n",
    "    best_solution = None\n",
    "    best_cost = float(\"inf\")\n",
    "    history = []\n",
    "    t = trange(num_iterations, desc=\"Best cost\", leave=True)\n",
    "    for _ in t:\n",
    "        solution = []\n",
    "        for vdist in vardists:\n",
    "            if isinstance(vdist, (list, tuple)):\n",
    "                value = random.choice(vdist)\n",
    "            else:\n",
    "                value = vdist.rvs(random_state=0)\n",
    "            solution.append(value)\n",
    "\n",
    "        cost = f(solution)\n",
    "        history.append((solution, cost))\n",
    "        if cost < best_cost:\n",
    "            best_solution = solution\n",
    "            best_cost = cost\n",
    "        t.set_description(f\"Best cost: {best_cost:.2e}\")\n",
    "        t.refresh()\n",
    "    return best_solution, best_cost, history"
   ]
  },
  {
   "cell_type": "code",
   "execution_count": 8,
   "id": "1ecac941-e23d-410e-a9fe-f12a05cac913",
   "metadata": {
    "execution": {
     "iopub.execute_input": "2024-05-22T05:14:02.355572Z",
     "iopub.status.busy": "2024-05-22T05:14:02.355396Z",
     "iopub.status.idle": "2024-05-22T05:14:21.624866Z",
     "shell.execute_reply": "2024-05-22T05:14:21.623834Z",
     "shell.execute_reply.started": "2024-05-22T05:14:02.355557Z"
    }
   },
   "outputs": [
    {
     "name": "stderr",
     "output_type": "stream",
     "text": [
      "Best cost: 9.97e-03: 100%|██████████████████████████████████████████████████████████████████████████████████████████████| 24/24 [00:19<00:00,  1.25it/s]\n"
     ]
    }
   ],
   "source": [
    "vardists = (\n",
    "    uniform(loc=0.1, scale=9.9),  # theta:  [0.1, 10]\n",
    "    [1, 2, 3],  # mapping\n",
    "    uniform(loc=-1, scale=1),  # alpha:  [-1, 0]\n",
    "    uniform(loc=-1, scale=4),  # beta:   [-1, 3]\n",
    "    uniform(loc=0.1, scale=1.9),  # lambda: [0.1, 2]\n",
    ")\n",
    "\n",
    "num_iterations = 24  # same as grid search\n",
    "\n",
    "best_solution, best_fitness, history = random_search(\n",
    "    run_trial, vardists, num_iterations\n",
    ")"
   ]
  },
  {
   "cell_type": "markdown",
   "id": "8bb9bc08-311c-4a6b-8d33-29c4a363c932",
   "metadata": {},
   "source": [
    "# Bayesian Optimization"
   ]
  },
  {
   "cell_type": "code",
   "execution_count": 9,
   "id": "d6018694-8b0f-4431-87b7-2001816a4fbb",
   "metadata": {
    "execution": {
     "iopub.execute_input": "2024-05-22T05:14:21.695084Z",
     "iopub.status.busy": "2024-05-22T05:14:21.694060Z",
     "iopub.status.idle": "2024-05-22T05:14:21.850542Z",
     "shell.execute_reply": "2024-05-22T05:14:21.849392Z",
     "shell.execute_reply.started": "2024-05-22T05:14:21.695021Z"
    }
   },
   "outputs": [],
   "source": [
    "from skopt import gp_minimize\n",
    "from skopt.space import Integer, Real"
   ]
  },
  {
   "cell_type": "code",
   "execution_count": 10,
   "id": "987b729f-79d0-4336-8877-1e9a50f9ebf3",
   "metadata": {
    "execution": {
     "iopub.execute_input": "2024-05-22T05:14:21.851546Z",
     "iopub.status.busy": "2024-05-22T05:14:21.851336Z",
     "iopub.status.idle": "2024-05-22T05:14:47.656052Z",
     "shell.execute_reply": "2024-05-22T05:14:47.655311Z",
     "shell.execute_reply.started": "2024-05-22T05:14:21.851530Z"
    }
   },
   "outputs": [
    {
     "name": "stdout",
     "output_type": "stream",
     "text": [
      "Best cost:  1.23e-02\n"
     ]
    }
   ],
   "source": [
    "varbound = [[0.1, 10], [1, 3], [-1, 0], [-1, 3], [0.1, 2]]\n",
    "vartype = (\"real\", \"int\", \"real\", \"real\", \"real\")\n",
    "\n",
    "# Convert variable types to skopt Space objects\n",
    "dimensions = []\n",
    "for i, typ in enumerate(vartype):\n",
    "    if typ == \"real\":\n",
    "        dimensions.append(Real(varbound[i][0], varbound[i][1]))\n",
    "    elif typ == \"int\":\n",
    "        dimensions.append(Integer(varbound[i][0], varbound[i][1]))\n",
    "\n",
    "result = gp_minimize(\n",
    "    run_trial,\n",
    "    dimensions=dimensions,\n",
    "    n_calls=24,\n",
    "    random_state=1,\n",
    "    verbose=False,\n",
    "    n_jobs=1,\n",
    ")\n",
    "\n",
    "print(f\"Best cost: {result.fun: .2e}\")"
   ]
  },
  {
   "cell_type": "markdown",
   "id": "c9e9d7c7-e4da-4c97-8f71-18c2498da44e",
   "metadata": {},
   "source": [
    "# Genetic Algorithm"
   ]
  },
  {
   "cell_type": "code",
   "execution_count": 11,
   "id": "8b3a57f5-178c-4b97-949f-f71e03696afd",
   "metadata": {
    "execution": {
     "iopub.execute_input": "2024-05-22T05:14:47.657128Z",
     "iopub.status.busy": "2024-05-22T05:14:47.656943Z",
     "iopub.status.idle": "2024-05-22T05:14:47.674407Z",
     "shell.execute_reply": "2024-05-22T05:14:47.673137Z",
     "shell.execute_reply.started": "2024-05-22T05:14:47.657113Z"
    }
   },
   "outputs": [],
   "source": [
    "from geneticalgorithm2 import geneticalgorithm2 as ga"
   ]
  },
  {
   "cell_type": "code",
   "execution_count": 12,
   "id": "fc4b8fb3-55ce-4f58-9409-8fc56b44d4f7",
   "metadata": {
    "execution": {
     "iopub.execute_input": "2024-05-22T05:14:47.675598Z",
     "iopub.status.busy": "2024-05-22T05:14:47.675326Z",
     "iopub.status.idle": "2024-05-22T05:15:04.474819Z",
     "shell.execute_reply": "2024-05-22T05:15:04.472695Z",
     "shell.execute_reply.started": "2024-05-22T05:14:47.675576Z"
    }
   },
   "outputs": [
    {
     "name": "stdout",
     "output_type": "stream",
     "text": [
      "\n",
      "Set: Average time of function evaluating (secs): 0.84453866481781 (total = 8.4453866481781)\n",
      "\n",
      "Best score before optimization: 0.00602125167829\n",
      "                                                                                                                                                                                                        \n",
      " The best found solution:\n",
      " [ 3.08327631  3.         -0.32913013 -0.65954122  1.35035744]\n",
      "\n",
      " Objective function:\n",
      " 0.00434509117328\n",
      "\n",
      " Used generations: 3\n",
      " Used time: 16.8 seconds\n",
      "Best cost:  4.35e-03\n"
     ]
    }
   ],
   "source": [
    "algorithm_param = {\n",
    "    \"max_num_iteration\": 3,\n",
    "    \"population_size\": 10,\n",
    "    \"mutation_probability\": 0.5,\n",
    "    \"selection_type\": \"tournament\",\n",
    "}\n",
    "\n",
    "varbound = [[0.1, 10], [1, 3], [-1, 0], [-1, 0], [0.1, 2]]\n",
    "vartype = (\"real\", \"int\", \"real\", \"real\", \"real\")\n",
    "model = ga(\n",
    "    function=run_trial,\n",
    "    dimension=len(vartype),\n",
    "    variable_type=vartype,\n",
    "    variable_boundaries=varbound,\n",
    "    algorithm_parameters=algorithm_param,\n",
    ")\n",
    "result = model.run(progress_bar_stream=\"stdout\", no_plot=True)\n",
    "\n",
    "print(f\"Best cost: {model.report[-1]: .2e}\")"
   ]
  },
  {
   "cell_type": "code",
   "execution_count": null,
   "id": "30eacd97-081b-4be9-8a6d-107dd6cb7e16",
   "metadata": {},
   "outputs": [],
   "source": []
  }
 ],
 "metadata": {
  "kernelspec": {
   "display_name": "Python 3 (ipykernel)",
   "language": "python",
   "name": "python3"
  },
  "language_info": {
   "codemirror_mode": {
    "name": "ipython",
    "version": 3
   },
   "file_extension": ".py",
   "mimetype": "text/x-python",
   "name": "python",
   "nbconvert_exporter": "python",
   "pygments_lexer": "ipython3",
   "version": "3.11.5"
  }
 },
 "nbformat": 4,
 "nbformat_minor": 5
}
